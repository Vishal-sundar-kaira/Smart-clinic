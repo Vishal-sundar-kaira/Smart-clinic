{
 "cells": [
  {
   "cell_type": "code",
   "execution_count": 34,
   "id": "e97de21c",
   "metadata": {},
   "outputs": [],
   "source": [
    "import pytesseract\n",
    "import re"
   ]
  },
  {
   "cell_type": "code",
   "execution_count": 35,
   "id": "0a011258",
   "metadata": {},
   "outputs": [],
   "source": [
    "pytesseract.pytesseract.tesseract_cmd=r'C:\\\\Program Files\\\\Tesseract-OCR\\\\tesseract.exe'"
   ]
  },
  {
   "cell_type": "code",
   "execution_count": 36,
   "id": "e35952da",
   "metadata": {},
   "outputs": [],
   "source": [
    "import cv2"
   ]
  },
  {
   "cell_type": "code",
   "execution_count": 37,
   "id": "b65d3969",
   "metadata": {},
   "outputs": [],
   "source": [
    "img=cv2.imread(\"C:\\\\Users\\\\Nidhi\\\\Desktop\\\\projprac\\\\text from img\\\\7.jpeg\")\n",
    "#cv2.imshow(\"text\",img)\n",
    "cv2.waitKey(0)\n",
    "cv2.destroyAllWindows()"
   ]
  },
  {
   "cell_type": "code",
   "execution_count": 38,
   "id": "81ee8fd9",
   "metadata": {},
   "outputs": [],
   "source": [
    "text=pytesseract.image_to_string(img)"
   ]
  },
  {
   "cell_type": "code",
   "execution_count": 39,
   "id": "dfa6b880",
   "metadata": {},
   "outputs": [],
   "source": [
    "text=text.lower()"
   ]
  },
  {
   "cell_type": "code",
   "execution_count": 40,
   "id": "ef76dd05",
   "metadata": {
    "scrolled": true
   },
   "outputs": [
    {
     "name": "stdout",
     "output_type": "stream",
     "text": [
      "dr. shilpa nayak asthmallergy | secant ? sman ge lees | aerc consultant pediatrician , asthma allergy specialist reg . no.2006/07/2892 appointment : 8 feb , 2023 : dr.shilpa nayak ( 2006/07/2892 ) patient : nidhi kadam ( p3924 ) female , 19 years clinical notes complaints - fever sorethroat | cough observations - throat congestion present | chest clear prescription drug name frequency duration instructions quantity tablet clavam 625 tablet 1-0-1 5 day ( ) 10 tablets tablet brufen 400 tablet 1-1-1 2 day ( ) 6 tablets tablet pan 40 mg 1 tablet ( ) day 7 week ( ) dr shilpa nayak\n"
     ]
    },
    {
     "name": "stderr",
     "output_type": "stream",
     "text": [
      "[nltk_data] Downloading package stopwords to\n",
      "[nltk_data]     C:\\Users\\Nidhi\\AppData\\Roaming\\nltk_data...\n",
      "[nltk_data]   Package stopwords is already up-to-date!\n"
     ]
    }
   ],
   "source": [
    "from nltk.corpus import stopwords\n",
    "from nltk.tokenize import word_tokenize\n",
    "\n",
    "# Download the stopwords corpus if not already downloaded\n",
    "import nltk\n",
    "nltk.download('stopwords')\n",
    "\n",
    "# Define the text and the language of stopwords\n",
    "stop_words = set(stopwords.words('english'))\n",
    "\n",
    "# Tokenize the text\n",
    "tokens = word_tokenize(text)\n",
    "\n",
    "# Remove stopwords\n",
    "filtered_tokens = [token for token in tokens if token.lower() not in stop_words]\n",
    "\n",
    "# Reconstruct the filtered text\n",
    "filtered_text = ' '.join(filtered_tokens)\n",
    "\n",
    "print(filtered_text)\n"
   ]
  },
  {
   "cell_type": "code",
   "execution_count": 41,
   "id": "3f2da270",
   "metadata": {},
   "outputs": [],
   "source": [
    "#filtered_text=re.sub(r'[^a-zA-Z\\s]', '', filtered_text)"
   ]
  },
  {
   "cell_type": "code",
   "execution_count": 42,
   "id": "82e224c5",
   "metadata": {},
   "outputs": [],
   "source": [
    "#nltk.download('wordnet')"
   ]
  },
  {
   "cell_type": "code",
   "execution_count": 43,
   "id": "d08ec1ef",
   "metadata": {},
   "outputs": [],
   "source": [
    "res = re.sub(' +', ' ', filtered_text)"
   ]
  },
  {
   "cell_type": "code",
   "execution_count": 44,
   "id": "4c822bcb",
   "metadata": {},
   "outputs": [],
   "source": [
    "z=res.split(\" \")"
   ]
  },
  {
   "cell_type": "code",
   "execution_count": 45,
   "id": "88e472bc",
   "metadata": {},
   "outputs": [],
   "source": [
    "medicine_names = [x for i, x in enumerate(z) if x not in z[:i]] # remove duplicates"
   ]
  },
  {
   "cell_type": "code",
   "execution_count": 46,
   "id": "2ba25284",
   "metadata": {
    "scrolled": false
   },
   "outputs": [
    {
     "data": {
      "text/plain": [
       "['dr.',\n",
       " 'shilpa',\n",
       " 'nayak',\n",
       " 'asthmallergy',\n",
       " '|',\n",
       " 'secant',\n",
       " '?',\n",
       " 'sman',\n",
       " 'ge',\n",
       " 'lees',\n",
       " 'aerc',\n",
       " 'consultant',\n",
       " 'pediatrician',\n",
       " ',',\n",
       " 'asthma',\n",
       " 'allergy',\n",
       " 'specialist',\n",
       " 'reg',\n",
       " '.',\n",
       " 'no.2006/07/2892',\n",
       " 'appointment',\n",
       " ':',\n",
       " '8',\n",
       " 'feb',\n",
       " '2023',\n",
       " 'dr.shilpa',\n",
       " '(',\n",
       " '2006/07/2892',\n",
       " ')',\n",
       " 'patient',\n",
       " 'nidhi',\n",
       " 'kadam',\n",
       " 'p3924',\n",
       " 'female',\n",
       " '19',\n",
       " 'years',\n",
       " 'clinical',\n",
       " 'notes',\n",
       " 'complaints',\n",
       " '-',\n",
       " 'fever',\n",
       " 'sorethroat',\n",
       " 'cough',\n",
       " 'observations',\n",
       " 'throat',\n",
       " 'congestion',\n",
       " 'present',\n",
       " 'chest',\n",
       " 'clear',\n",
       " 'prescription',\n",
       " 'drug',\n",
       " 'name',\n",
       " 'frequency',\n",
       " 'duration',\n",
       " 'instructions',\n",
       " 'quantity',\n",
       " 'tablet',\n",
       " 'clavam',\n",
       " '625',\n",
       " '1-0-1',\n",
       " '5',\n",
       " 'day',\n",
       " '10',\n",
       " 'tablets',\n",
       " 'brufen',\n",
       " '400',\n",
       " '1-1-1',\n",
       " '2',\n",
       " '6',\n",
       " 'pan',\n",
       " '40',\n",
       " 'mg',\n",
       " '1',\n",
       " '7',\n",
       " 'week',\n",
       " 'dr']"
      ]
     },
     "execution_count": 46,
     "metadata": {},
     "output_type": "execute_result"
    }
   ],
   "source": [
    "medicine_names"
   ]
  },
  {
   "cell_type": "code",
   "execution_count": 47,
   "id": "9153812c",
   "metadata": {
    "scrolled": true
   },
   "outputs": [],
   "source": [
    "patterns = [r'^.tablet.', r'^.capsule.']\n",
    "#patterns = /(?<=tablet\\s).*?(?=\\scapsule)/;\n",
    "        # Use the findall() function to extract all matches of the pattern\n",
    "for i in filtered_text:\n",
    "    for pattern in patterns:\n",
    "        if(re.findall(pattern, i)!=[]) :\n",
    "            g.append(i)"
   ]
  },
  {
   "cell_type": "code",
   "execution_count": 48,
   "id": "193cb331",
   "metadata": {},
   "outputs": [
    {
     "name": "stdout",
     "output_type": "stream",
     "text": [
      "[]\n"
     ]
    }
   ],
   "source": [
    "pattern = r'(?<=tablet\\s).*?(?=\\scapsule)'\n",
    "\n",
    "matches = re.findall(pattern, filtered_text)\n",
    "print(matches)"
   ]
  },
  {
   "cell_type": "code",
   "execution_count": 49,
   "id": "35ef7a57",
   "metadata": {},
   "outputs": [],
   "source": [
    "#dm=[]\n",
    "mm=[]\n",
    "#duration_regex = r\"Daily for (\\d+|one|two|three|four|five|six|seven|eight|nine|ten) (day|week)s?\"\n",
    "medicine_regex = r\"(\\d+\\. )?([\\w\\s-]+)\\\\n(tab|capsule|gargle)\"\n",
    "#for i in filtered_text :\n",
    "    #print(i)\n",
    "#    duration_matches = re.findall(duration_regex, i)\n",
    "medicine_matches = re.findall(medicine_regex, filtered_text)\n",
    "#    dm.append(duration_matches)\n",
    "mm.append(medicine_matches)"
   ]
  },
  {
   "cell_type": "code",
   "execution_count": 50,
   "id": "1dcc34fa",
   "metadata": {
    "scrolled": false
   },
   "outputs": [],
   "source": [
    "#dmf=[list(filter(lambda x: x is not None, inner_list)) for inner_list in dm]"
   ]
  },
  {
   "cell_type": "code",
   "execution_count": 51,
   "id": "7c576ea7",
   "metadata": {},
   "outputs": [],
   "source": [
    "import re\n",
    "g=[]\n",
    "#text = '''Dr. Onkar Bhave\\nMBBS, MD, MS. | Reg. No: 270988 |\\n‘Mob. No: 8983390126\\n\\nCare Cli\\n‘Near Axis Bank, Kothrud, Pune -\\n411038.\\n\\nsone ph: 094233 80390, Timing: 09:00\\narpeep ean 9e\\nbet 2-An038,0837\\nso: 266 - gn aren)\\nse oe\\nBe ssw\\n.\\n— = —\\nseer TTT scone\\n(Before Food) (Tot:20 Tab)\\njowomosnmme: __smageagtll soon\\n(Before Food) (Tot:20 Cap)\\n5\\na 22a\\namacnowomnes gle vitae ior\\n{After Food) (Tot:10 Tab)\\nneces\\nMESO wo enc roo\\nrotow Up: 248-2030\\ncme\\nj er oe\\nio pe\\nfe }3\\n\\n'''\n",
    "\n",
    "# Define a regular expression pattern to match medicine names\n",
    "patterns=[r'^.*tab.*',r'^.*cap.*']\n",
    "# Use the findall() function to extract all matches of the pattern\n",
    "for i in z :\n",
    "    for pattern in patterns:\n",
    "        g.append(re.findall(pattern,i))\n",
    "    \n",
    "# Print the list of medicine names\n",
    "filtered_list = list(filter(lambda x: len(x) > 0,g))"
   ]
  },
  {
   "cell_type": "code",
   "execution_count": 52,
   "id": "23f48fd2",
   "metadata": {},
   "outputs": [],
   "source": [
    "#import re\n",
    "\n",
    "# regular expression to extract duration\n",
    "#duration_regex = r\"Daily for (\\d+|one|two|three|four|five|six|seven|eight|nine|ten) (day|week)s?\"\n",
    "\n",
    "# regular expression to extract medicine names\n",
    "#medicine_regex = r\"(\\d+\\. )?([\\w\\s-]+)\\\\n(Tablet|Capsule|Gargle)\"\n",
    "\n",
    "# find all matches for duration regex\n",
    "#duration_matches = re.findall(duration_regex, text)\n",
    "\n",
    "# find all matches for medicine regex\n",
    "#medicine_matches = re.findall(medicine_regex, text)\n",
    "\n",
    "# extract duration\n",
    "#if duration_matches:\n",
    " #   duration = duration_matches[0][0]\n",
    "#else:\n",
    " #   duration = None\n",
    "\n",
    "# extract medicine names\n",
    "#medicine_names = [match[1] for match in medicine_matches]\n",
    "\n",
    "# print the extracted duration and medicine names\n",
    "#print(\"Duration:\", duration)\n",
    "#print(\"Medicine Names:\", medicine_names)\n"
   ]
  },
  {
   "cell_type": "code",
   "execution_count": 53,
   "id": "554f3705",
   "metadata": {
    "scrolled": true
   },
   "outputs": [
    {
     "name": "stdout",
     "output_type": "stream",
     "text": [
      "['dr', 'shilpa', 'nayak', 'asthmallergy', 'secant', 'sman', 'ge', 'lees', 'an', 'aerc', 'consultant', 'pediatrician', 'asthma', 'and', 'allergy', 'specialist', 'reg', 'no', '2006', '07', '2892', 'appointment', 'on', '8', 'feb', '2023', 'by', 'dr', 'shilpa', 'nayak', '2006', '07', '2892', 'patient', 'nidhi', 'kadam', 'p3924', 'female', '19', 'years', 'clinical', 'notes', 'complaints', 'fever', 'and', 'sorethroat', 'cough', 'observations', 'throat', 'congestion', 'present', 'chest', 'clear', 'prescription', 'drug', 'name', 'frequency', 'duration', 'instructions', 'quantity', 'tablet', 'clavam', '625', 'tablet', '1', '0', '1', '5', 'day', 's', '10', 'tablets', 'tablet', 'brufen', '400', 'tablet', '1', '1', '1', '2', 'day', 's', '6', 'tablets', 'tablet', 'pan', '40', 'mg', '1', 'tablet', 's', 'once', 'a', 'day', '7', 'week', 's', 'dr', 'shilpa', 'nayak']\n"
     ]
    }
   ],
   "source": [
    "import re\n",
    "\n",
    "#text = '''Dr. Onkar Bhave\\nMBBS, MD, MS. | Reg. No: 270988 |\\n‘Mob. No: 8983390126\\n\\nCare Cli\\n‘Near Axis Bank, Kothrud, Pune -\\n411038.\\n\\nsone ph: 094233 80390, Timing: 09:00\\narpeep ean 9e\\nbet 2-An038,0837\\nso: 266 - gn aren)\\nse oe\\nBe ssw\\n.\\n— = —\\nseer TTT scone\\n(Before Food) (Tot:20 Tab)\\njowomosnmme: __smageagtll soon\\n(Before Food) (Tot:20 Cap)\\n5\\na 22a\\namacnowomnes gle vitae ior\\n{After Food) (Tot:10 Tab)\\nneces\\nMESO wo enc roo\\nrotow Up: 248-2030\\ncme\\nj er oe\\nio pe\\nfe }3\\n\\n'''\n",
    "\n",
    "# Define a regular expression pattern to match medicine names\n",
    "pattern =r'[A-Za-z0-9]+'\n",
    "\n",
    "\n",
    "# Use the findall() function to extract all matches of the pattern\n",
    "mn = re.findall(pattern, text)\n",
    "\n",
    "# Print the list of medicine names\n",
    "print(mn)\n"
   ]
  },
  {
   "cell_type": "code",
   "execution_count": 54,
   "id": "5012599a",
   "metadata": {},
   "outputs": [],
   "source": [
    "import pandas as pd"
   ]
  },
  {
   "cell_type": "code",
   "execution_count": 55,
   "id": "7e818cf5",
   "metadata": {},
   "outputs": [
    {
     "name": "stderr",
     "output_type": "stream",
     "text": [
      "C:\\Users\\Nidhi\\AppData\\Local\\Temp\\ipykernel_16372\\2793025231.py:1: DtypeWarning: Columns (3) have mixed types. Specify dtype option on import or set low_memory=False.\n",
      "  df=pd.read_csv('meds.csv')\n"
     ]
    }
   ],
   "source": [
    "df=pd.read_csv('meds.csv')"
   ]
  },
  {
   "cell_type": "code",
   "execution_count": 56,
   "id": "14972f64",
   "metadata": {
    "scrolled": false
   },
   "outputs": [
    {
     "data": {
      "text/html": [
       "<div>\n",
       "<style scoped>\n",
       "    .dataframe tbody tr th:only-of-type {\n",
       "        vertical-align: middle;\n",
       "    }\n",
       "\n",
       "    .dataframe tbody tr th {\n",
       "        vertical-align: top;\n",
       "    }\n",
       "\n",
       "    .dataframe thead th {\n",
       "        text-align: right;\n",
       "    }\n",
       "</style>\n",
       "<table border=\"1\" class=\"dataframe\">\n",
       "  <thead>\n",
       "    <tr style=\"text-align: right;\">\n",
       "      <th></th>\n",
       "      <th>id</th>\n",
       "      <th>name</th>\n",
       "      <th>price(₹)</th>\n",
       "      <th>Is_discontinued</th>\n",
       "      <th>manufacturer_name</th>\n",
       "      <th>type</th>\n",
       "      <th>pack_size_label</th>\n",
       "      <th>short_composition1</th>\n",
       "      <th>short_composition2</th>\n",
       "    </tr>\n",
       "  </thead>\n",
       "  <tbody>\n",
       "    <tr>\n",
       "      <th>0</th>\n",
       "      <td>1</td>\n",
       "      <td>Augmentin 625 Duo Tablet</td>\n",
       "      <td>223.42</td>\n",
       "      <td>False</td>\n",
       "      <td>Glaxo SmithKline Pharmaceuticals Ltd</td>\n",
       "      <td>allopathy</td>\n",
       "      <td>strip of 10 tablets</td>\n",
       "      <td>Amoxycillin  (500mg)</td>\n",
       "      <td>Clavulanic Acid (125mg)</td>\n",
       "    </tr>\n",
       "    <tr>\n",
       "      <th>1</th>\n",
       "      <td>2</td>\n",
       "      <td>Azithral 500 Tablet</td>\n",
       "      <td>132.36</td>\n",
       "      <td>False</td>\n",
       "      <td>Alembic Pharmaceuticals Ltd</td>\n",
       "      <td>allopathy</td>\n",
       "      <td>strip of 5 tablets</td>\n",
       "      <td>Azithromycin (500mg)</td>\n",
       "      <td>NaN</td>\n",
       "    </tr>\n",
       "    <tr>\n",
       "      <th>2</th>\n",
       "      <td>3</td>\n",
       "      <td>Ascoril LS Syrup</td>\n",
       "      <td>118.00</td>\n",
       "      <td>False</td>\n",
       "      <td>Glenmark Pharmaceuticals Ltd</td>\n",
       "      <td>allopathy</td>\n",
       "      <td>bottle of 100 ml Syrup</td>\n",
       "      <td>Ambroxol (30mg/5ml)</td>\n",
       "      <td>Levosalbutamol (1mg/5ml)</td>\n",
       "    </tr>\n",
       "    <tr>\n",
       "      <th>3</th>\n",
       "      <td>4</td>\n",
       "      <td>Allegra 120mg Tablet</td>\n",
       "      <td>218.81</td>\n",
       "      <td>False</td>\n",
       "      <td>Sanofi India  Ltd</td>\n",
       "      <td>allopathy</td>\n",
       "      <td>strip of 10 tablets</td>\n",
       "      <td>Fexofenadine (120mg)</td>\n",
       "      <td>NaN</td>\n",
       "    </tr>\n",
       "    <tr>\n",
       "      <th>4</th>\n",
       "      <td>5</td>\n",
       "      <td>Avil 25 Tablet</td>\n",
       "      <td>10.96</td>\n",
       "      <td>False</td>\n",
       "      <td>Sanofi India  Ltd</td>\n",
       "      <td>allopathy</td>\n",
       "      <td>strip of 15 tablets</td>\n",
       "      <td>Pheniramine (25mg)</td>\n",
       "      <td>NaN</td>\n",
       "    </tr>\n",
       "  </tbody>\n",
       "</table>\n",
       "</div>"
      ],
      "text/plain": [
       "   id                      name  price(₹) Is_discontinued  \\\n",
       "0   1  Augmentin 625 Duo Tablet    223.42           False   \n",
       "1   2       Azithral 500 Tablet    132.36           False   \n",
       "2   3          Ascoril LS Syrup    118.00           False   \n",
       "3   4      Allegra 120mg Tablet    218.81           False   \n",
       "4   5            Avil 25 Tablet     10.96           False   \n",
       "\n",
       "                      manufacturer_name       type         pack_size_label  \\\n",
       "0  Glaxo SmithKline Pharmaceuticals Ltd  allopathy     strip of 10 tablets   \n",
       "1           Alembic Pharmaceuticals Ltd  allopathy      strip of 5 tablets   \n",
       "2          Glenmark Pharmaceuticals Ltd  allopathy  bottle of 100 ml Syrup   \n",
       "3                     Sanofi India  Ltd  allopathy     strip of 10 tablets   \n",
       "4                     Sanofi India  Ltd  allopathy     strip of 15 tablets   \n",
       "\n",
       "      short_composition1          short_composition2  \n",
       "0  Amoxycillin  (500mg)      Clavulanic Acid (125mg)  \n",
       "1   Azithromycin (500mg)                         NaN  \n",
       "2   Ambroxol (30mg/5ml)    Levosalbutamol (1mg/5ml)   \n",
       "3   Fexofenadine (120mg)                         NaN  \n",
       "4     Pheniramine (25mg)                         NaN  "
      ]
     },
     "execution_count": 56,
     "metadata": {},
     "output_type": "execute_result"
    }
   ],
   "source": [
    "df.head()"
   ]
  },
  {
   "cell_type": "code",
   "execution_count": 57,
   "id": "d1546336",
   "metadata": {
    "scrolled": false
   },
   "outputs": [],
   "source": [
    "p=[]\n",
    "for i in df['name']:\n",
    "    p.append(i.split(' '))"
   ]
  },
  {
   "cell_type": "code",
   "execution_count": 58,
   "id": "64e5f123",
   "metadata": {},
   "outputs": [],
   "source": [
    "p = [[item.lower() for item in sublist] for sublist in p]"
   ]
  },
  {
   "cell_type": "code",
   "execution_count": 59,
   "id": "9837dc20",
   "metadata": {},
   "outputs": [],
   "source": [
    "final=[]"
   ]
  },
  {
   "cell_type": "code",
   "execution_count": 60,
   "id": "531f54ae",
   "metadata": {},
   "outputs": [],
   "source": [
    "def func1(j):\n",
    "    for m in medicine_names:\n",
    "        if (m==j[0]):\n",
    "            x=\" \".join(j)\n",
    "            final.append(x)"
   ]
  },
  {
   "cell_type": "code",
   "execution_count": 61,
   "id": "b3431ac0",
   "metadata": {},
   "outputs": [],
   "source": [
    "def func2(j):\n",
    "    c=0\n",
    "    for m in medicine_names:\n",
    "        if(m==j[0]):\n",
    "            c=c+1\n",
    "        elif(m==j[1]):\n",
    "            c=c+1\n",
    "    if (c>=2):\n",
    "        x=\" \".join(j)\n",
    "        final.append(x)"
   ]
  },
  {
   "cell_type": "code",
   "execution_count": 62,
   "id": "8bccf3fb",
   "metadata": {},
   "outputs": [],
   "source": [
    "def func3(j):\n",
    "    c=0\n",
    "    for m in medicine_names:\n",
    "        if(m==j[0]):\n",
    "            c=c+1\n",
    "        elif(m==j[1]):\n",
    "            c=c+1\n",
    "        elif(m==j[2]):\n",
    "            c=c+1\n",
    "    if (c>=3):\n",
    "        x=\" \".join(j)\n",
    "        final.append(x)"
   ]
  },
  {
   "cell_type": "code",
   "execution_count": 63,
   "id": "b61762d6",
   "metadata": {},
   "outputs": [],
   "source": [
    "def func4(j):\n",
    "    c=0\n",
    "    for m in medicine_names:\n",
    "        if(m==j[0]):\n",
    "            c=c+1\n",
    "        elif(m==j[1]):\n",
    "            c=c+1\n",
    "        elif(m==j[2]):\n",
    "            c=c+1\n",
    "        elif(m==j[3]):\n",
    "            c=c+1\n",
    "    if (c>=4):\n",
    "        x=\" \".join(j)\n",
    "        final.append(x)"
   ]
  },
  {
   "cell_type": "code",
   "execution_count": 64,
   "id": "5f56be6c",
   "metadata": {},
   "outputs": [],
   "source": [
    "def func5(j):\n",
    "    c=0\n",
    "    for m in medicine_names:\n",
    "        if(m==j[0]):\n",
    "            c=c+1\n",
    "        elif(m==j[1]):\n",
    "            c=c+1\n",
    "        elif(m==j[2]):\n",
    "            c=c+1\n",
    "        elif(m==j[3]):\n",
    "            c=c+1\n",
    "        elif(m==j[4]):\n",
    "            c=c+1\n",
    "    if (c>=5):\n",
    "        x=\" \".join(j)\n",
    "        final.append(x)"
   ]
  },
  {
   "cell_type": "code",
   "execution_count": 65,
   "id": "13b2c2ff",
   "metadata": {},
   "outputs": [],
   "source": [
    "for j in p:\n",
    "    l=len(j)\n",
    "    if (l==1):\n",
    "        func1(j)\n",
    "    elif (l==2):\n",
    "        func2(j)\n",
    "    elif (l==3):\n",
    "        func3(j)\n",
    "    elif (l==4):\n",
    "        func4(j)\n",
    "    elif (l==5):\n",
    "        func5(j)"
   ]
  },
  {
   "cell_type": "code",
   "execution_count": 66,
   "id": "8818998a",
   "metadata": {},
   "outputs": [
    {
     "data": {
      "text/plain": [
       "['brufen 400 tablet',\n",
       " 'clavam 625 tablet',\n",
       " 'chest tablet',\n",
       " 'pan 40 tablet',\n",
       " 'pan 40 mg tablet']"
      ]
     },
     "execution_count": 66,
     "metadata": {},
     "output_type": "execute_result"
    }
   ],
   "source": [
    "final"
   ]
  },
  {
   "cell_type": "code",
   "execution_count": null,
   "id": "1db52496",
   "metadata": {},
   "outputs": [],
   "source": []
  }
 ],
 "metadata": {
  "kernelspec": {
   "display_name": "Python 3 (ipykernel)",
   "language": "python",
   "name": "python3"
  },
  "language_info": {
   "codemirror_mode": {
    "name": "ipython",
    "version": 3
   },
   "file_extension": ".py",
   "mimetype": "text/x-python",
   "name": "python",
   "nbconvert_exporter": "python",
   "pygments_lexer": "ipython3",
   "version": "3.9.13"
  }
 },
 "nbformat": 4,
 "nbformat_minor": 5
}
